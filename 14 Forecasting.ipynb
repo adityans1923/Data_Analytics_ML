{
 "cells": [
  {
   "cell_type": "markdown",
   "metadata": {
    "ExecuteTime": {
     "end_time": "2020-05-26T16:14:59.179251Z",
     "start_time": "2020-05-26T16:14:59.173269Z"
    }
   },
   "source": [
    "<strong><b><font size=\"5\">Time Series Analysis and Forecasting in Python</font></b></strong>"
   ]
  },
  {
   "cell_type": "code",
   "execution_count": null,
   "metadata": {},
   "outputs": [],
   "source": [
    "!pip3 install statsmodels\n",
    "!pip3 install pmdarima"
   ]
  },
  {
   "cell_type": "code",
   "execution_count": null,
   "metadata": {
    "ExecuteTime": {
     "end_time": "2020-06-01T23:13:20.320011Z",
     "start_time": "2020-06-01T23:13:20.307046Z"
    }
   },
   "outputs": [],
   "source": [
    "import numpy as np \n",
    "import pandas as pd \n",
    "import matplotlib.pyplot as plt\n",
    "%matplotlib inline\n",
    "import matplotlib\n",
    "import warnings\n",
    "warnings.filterwarnings('ignore')\n",
    "import seaborn as sns\n",
    "plt.style.use('fivethirtyeight')\n",
    "import statsmodels.api as sm\n",
    "from statsmodels.tsa.stattools import adfuller\n",
    "from statsmodels.graphics.tsaplots import plot_acf, plot_pacf\n",
    "from statsmodels.tsa.seasonal import seasonal_decompose\n",
    "from statsmodels.tsa.statespace.sarimax import SARIMAX\n",
    "from sklearn.metrics import mean_squared_error, r2_score, mean_absolute_error, median_absolute_error, mean_squared_log_error"
   ]
  },
  {
   "cell_type": "markdown",
   "metadata": {},
   "source": [
    "# Importing Data\n",
    "- Dataset: Monthly Milk Production "
   ]
  },
  {
   "cell_type": "code",
   "execution_count": null,
   "metadata": {
    "ExecuteTime": {
     "end_time": "2020-06-01T23:13:20.656113Z",
     "start_time": "2020-06-01T23:13:20.323003Z"
    }
   },
   "outputs": [],
   "source": [
    "df = pd.read_csv('./monthly_milk_production.csv', sep=',', parse_dates=['Date'], index_col='Date')\n",
    "\n",
    "df.plot(figsize=(12,5))\n",
    "plt.title('Monthly Milk Production')\n",
    "plt.show()"
   ]
  },
  {
   "cell_type": "code",
   "execution_count": null,
   "metadata": {
    "ExecuteTime": {
     "end_time": "2020-06-01T23:13:20.669081Z",
     "start_time": "2020-06-01T23:13:20.658107Z"
    }
   },
   "outputs": [],
   "source": [
    "df.head()"
   ]
  },
  {
   "cell_type": "code",
   "execution_count": null,
   "metadata": {
    "ExecuteTime": {
     "end_time": "2020-06-01T23:13:20.698000Z",
     "start_time": "2020-06-01T23:13:20.673067Z"
    }
   },
   "outputs": [],
   "source": [
    "df.describe()"
   ]
  },
  {
   "cell_type": "code",
   "execution_count": null,
   "metadata": {
    "ExecuteTime": {
     "end_time": "2020-06-01T23:13:20.714955Z",
     "start_time": "2020-06-01T23:13:20.701990Z"
    }
   },
   "outputs": [],
   "source": [
    "df.shape"
   ]
  },
  {
   "cell_type": "markdown",
   "metadata": {},
   "source": [
    "# Data Inspection"
   ]
  },
  {
   "cell_type": "code",
   "execution_count": null,
   "metadata": {
    "ExecuteTime": {
     "end_time": "2020-06-01T23:13:21.216617Z",
     "start_time": "2020-06-01T23:13:20.717947Z"
    }
   },
   "outputs": [],
   "source": [
    "fig, (ax1, ax2) = plt.subplots(nrows=2, ncols=1, sharex=False, sharey=False, figsize=(12,5))\n",
    "df.hist(ax=ax1)\n",
    "df.plot(kind='kde', ax=ax2)\n",
    "plt.show();"
   ]
  },
  {
   "cell_type": "markdown",
   "metadata": {},
   "source": [
    "__The distribution is not perfectly Gaussian normal distribution and it is left shifted.__"
   ]
  },
  {
   "cell_type": "markdown",
   "metadata": {},
   "source": [
    "## Time Series Decomposition"
   ]
  },
  {
   "cell_type": "code",
   "execution_count": null,
   "metadata": {
    "ExecuteTime": {
     "end_time": "2020-06-01T23:13:22.174055Z",
     "start_time": "2020-06-01T23:13:21.219607Z"
    }
   },
   "outputs": [],
   "source": [
    "decomposition = seasonal_decompose(df['Production'], period=12, model='additive')\n",
    "plt.rcParams['figure.figsize'] = 12, 5\n",
    "decomposition.plot()\n",
    "plt.show();"
   ]
  },
  {
   "cell_type": "markdown",
   "metadata": {},
   "source": [
    "## Seasonal Component"
   ]
  },
  {
   "cell_type": "code",
   "execution_count": null,
   "metadata": {
    "ExecuteTime": {
     "end_time": "2020-06-01T23:13:22.581964Z",
     "start_time": "2020-06-01T23:13:22.178052Z"
    }
   },
   "outputs": [],
   "source": [
    "df['year'] = df.index.year\n",
    "df['month'] = df.index.month\n",
    "df_pivot = pd.pivot_table(df, values='Production', index='month', columns='year', aggfunc='mean')\n",
    "df_pivot.plot(figsize=(12,8))\n",
    "plt.legend().remove()\n",
    "plt.xlabel('Month')\n",
    "plt.ylabel('Milk Production')\n",
    "plt.show()"
   ]
  },
  {
   "cell_type": "code",
   "execution_count": null,
   "metadata": {
    "ExecuteTime": {
     "end_time": "2020-06-01T23:13:22.588945Z",
     "start_time": "2020-06-01T23:13:22.583959Z"
    }
   },
   "outputs": [],
   "source": [
    "df.drop(['year', 'month'], axis=1, inplace=True)"
   ]
  },
  {
   "cell_type": "markdown",
   "metadata": {},
   "source": [
    "# Model Identification\n",
    "__Check for Stationarity__"
   ]
  },
  {
   "cell_type": "markdown",
   "metadata": {},
   "source": [
    "## ACF and PACF plots"
   ]
  },
  {
   "cell_type": "markdown",
   "metadata": {},
   "source": [
    "__ACF and PACF plots: If the time series is stationary, the ACF/PACF plots will show a quick cut off after a small number of lags.__"
   ]
  },
  {
   "cell_type": "code",
   "execution_count": null,
   "metadata": {
    "ExecuteTime": {
     "end_time": "2020-06-01T23:13:22.940006Z",
     "start_time": "2020-06-01T23:13:22.591938Z"
    }
   },
   "outputs": [],
   "source": [
    "fig, (ax1, ax2) = plt.subplots(nrows=2, ncols=1, figsize=(14,6), sharex=False, sharey=False)\n",
    "ax1 = plot_acf(df, lags=50, ax=ax1)\n",
    "ax2 = plot_pacf(df, lags=50, ax=ax2)\n",
    "plt.show()"
   ]
  },
  {
   "cell_type": "code",
   "execution_count": null,
   "metadata": {
    "ExecuteTime": {
     "end_time": "2020-06-01T23:13:23.192331Z",
     "start_time": "2020-06-01T23:13:22.942001Z"
    }
   },
   "outputs": [],
   "source": [
    "#Determing rolling statistics\n",
    "rolmean = pd.Series(df['Production']).rolling(window=12).mean()\n",
    "rolstd = pd.Series(df['Production']).rolling(window=12).std()\n",
    "\n",
    "#Plot rolling statistics:\n",
    "orig = plt.plot(df['Production'], color='blue',label='Original')\n",
    "mean = plt.plot(rolmean, color='red', label='Rolling Mean')\n",
    "std = plt.plot(rolstd, color='black', label = 'Rolling Std')\n",
    "plt.legend(loc='best')\n",
    "plt.title('Rolling Mean & Standard Deviation')\n",
    "plt.show(block=False)"
   ]
  },
  {
   "cell_type": "markdown",
   "metadata": {},
   "source": [
    "## Statistical Tests"
   ]
  },
  {
   "cell_type": "markdown",
   "metadata": {
    "ExecuteTime": {
     "end_time": "2020-05-26T18:36:08.278052Z",
     "start_time": "2020-05-26T18:36:08.271069Z"
    }
   },
   "source": [
    "__Augmented Dickey Fuller Test__\n",
    "If the p-value is lower than the threshold value (5% or 1%), we reject the null hypothesis and time series is stationary. If the p-value is higher than the threshold, we fail to reject the null hypothesis and time series is non-stationary."
   ]
  },
  {
   "cell_type": "code",
   "execution_count": null,
   "metadata": {
    "ExecuteTime": {
     "end_time": "2020-06-01T23:13:23.226242Z",
     "start_time": "2020-06-01T23:13:23.194326Z"
    }
   },
   "outputs": [],
   "source": [
    "print ('Results of Dickey-Fuller Test:')\n",
    "dftest = adfuller(df['Production'])\n",
    "\n",
    "dfoutput = pd.Series(dftest[0:4], index=['Test Statistic','p-value','#Lags Used','Number of Observations Used'])\n",
    "for key, value in dftest[4].items():\n",
    "    dfoutput['Critical Value (%s)'%key] = value\n",
    "print(dfoutput)"
   ]
  },
  {
   "cell_type": "markdown",
   "metadata": {},
   "source": [
    "## Making Time Series Stationary"
   ]
  },
  {
   "cell_type": "code",
   "execution_count": null,
   "metadata": {
    "ExecuteTime": {
     "end_time": "2020-06-01T23:13:23.237212Z",
     "start_time": "2020-06-01T23:13:23.232225Z"
    }
   },
   "outputs": [],
   "source": [
    "df_diff = df.diff().diff(12)"
   ]
  },
  {
   "cell_type": "code",
   "execution_count": null,
   "metadata": {
    "ExecuteTime": {
     "end_time": "2020-06-01T23:13:23.254166Z",
     "start_time": "2020-06-01T23:13:23.241201Z"
    }
   },
   "outputs": [],
   "source": [
    "df_diff.dropna(inplace=True)"
   ]
  },
  {
   "cell_type": "code",
   "execution_count": null,
   "metadata": {
    "ExecuteTime": {
     "end_time": "2020-06-01T23:13:23.293063Z",
     "start_time": "2020-06-01T23:13:23.257159Z"
    }
   },
   "outputs": [],
   "source": [
    "print ('Results of Dickey-Fuller Test:')\n",
    "dftest = adfuller(df_diff['Production'])\n",
    "\n",
    "dfoutput = pd.Series(dftest[0:4], index=['Test Statistic','p-value','#Lags Used','Number of Observations Used'])\n",
    "for key, value in dftest[4].items():\n",
    "    dfoutput['Critical Value (%s)'%key] = value\n",
    "print(dfoutput)"
   ]
  },
  {
   "cell_type": "code",
   "execution_count": null,
   "metadata": {
    "ExecuteTime": {
     "end_time": "2020-06-01T23:13:23.591264Z",
     "start_time": "2020-06-01T23:13:23.296056Z"
    }
   },
   "outputs": [],
   "source": [
    "plt.plot(df_diff['Production'])\n",
    "plt.title('Monthly Milk Production')\n",
    "plt.savefig('diffplot')\n",
    "plt.show()"
   ]
  },
  {
   "cell_type": "code",
   "execution_count": null,
   "metadata": {
    "ExecuteTime": {
     "end_time": "2020-06-01T23:13:24.037074Z",
     "start_time": "2020-06-01T23:13:23.594256Z"
    }
   },
   "outputs": [],
   "source": [
    "fig, (ax1, ax2) = plt.subplots(nrows=2, ncols=1, figsize=(14,6), sharex=False, sharey=False)\n",
    "ax1 = plot_acf(df_diff, lags=50, ax=ax1)\n",
    "ax2 = plot_pacf(df_diff, lags=50, ax=ax2)\n",
    "plt.savefig('acfpacf2')\n",
    "plt.show()"
   ]
  },
  {
   "cell_type": "markdown",
   "metadata": {
    "ExecuteTime": {
     "end_time": "2020-05-29T08:28:51.156482Z",
     "start_time": "2020-05-29T08:28:51.149503Z"
    }
   },
   "source": [
    "# Model Parameter Estimation"
   ]
  },
  {
   "cell_type": "code",
   "execution_count": null,
   "metadata": {
    "ExecuteTime": {
     "end_time": "2020-06-01T23:13:39.057909Z",
     "start_time": "2020-06-01T23:13:24.040065Z"
    }
   },
   "outputs": [],
   "source": [
    "import pmdarima as pm\n",
    "model = pm.auto_arima(df['Production'], d=1, D=1,\n",
    "                      seasonal=True, m=12, trend='c', \n",
    "                      start_p=0, start_q=0, max_order=6, test='adf', stepwise=True, trace=True)\n"
   ]
  },
  {
   "cell_type": "code",
   "execution_count": null,
   "metadata": {
    "ExecuteTime": {
     "end_time": "2020-06-01T23:13:39.130715Z",
     "start_time": "2020-06-01T23:13:39.060902Z"
    }
   },
   "outputs": [],
   "source": [
    "model.summary()"
   ]
  },
  {
   "cell_type": "code",
   "execution_count": null,
   "metadata": {
    "ExecuteTime": {
     "end_time": "2020-06-01T23:13:39.376059Z",
     "start_time": "2020-06-01T23:13:39.134705Z"
    }
   },
   "outputs": [],
   "source": [
    "#divide into train and validation set\n",
    "train = df[:int(0.85*(len(df)))]\n",
    "test = df[int(0.85*(len(df))):]\n",
    "\n",
    "#plotting the data\n",
    "train['Production'].plot()\n",
    "test['Production'].plot()"
   ]
  },
  {
   "cell_type": "code",
   "execution_count": null,
   "metadata": {
    "ExecuteTime": {
     "end_time": "2020-06-01T23:13:39.583505Z",
     "start_time": "2020-06-01T23:13:39.379052Z"
    }
   },
   "outputs": [],
   "source": [
    "model = SARIMAX(train['Production'],order=(1,1,0),seasonal_order=(0,1,1,12))\n",
    "results = model.fit()\n",
    "results.summary()"
   ]
  },
  {
   "cell_type": "markdown",
   "metadata": {},
   "source": [
    "# Statistical Model Checking"
   ]
  },
  {
   "cell_type": "markdown",
   "metadata": {},
   "source": [
    "__Model Diagnostics__"
   ]
  },
  {
   "cell_type": "code",
   "execution_count": null,
   "metadata": {
    "ExecuteTime": {
     "end_time": "2020-06-01T23:13:40.584828Z",
     "start_time": "2020-06-01T23:13:39.586497Z"
    }
   },
   "outputs": [],
   "source": [
    "results.plot_diagnostics(figsize=(16, 8))\n",
    "plt.savefig('modeldiagnostics')\n",
    "plt.show()"
   ]
  },
  {
   "cell_type": "code",
   "execution_count": null,
   "metadata": {
    "ExecuteTime": {
     "end_time": "2020-06-01T23:13:40.618736Z",
     "start_time": "2020-06-01T23:13:40.586821Z"
    }
   },
   "outputs": [],
   "source": [
    "forecast_object = results.get_forecast(steps=len(test))\n",
    "\n",
    "mean = forecast_object.predicted_mean\n",
    "\n",
    "conf_int = forecast_object.conf_int()\n",
    "\n",
    "dates = mean.index"
   ]
  },
  {
   "cell_type": "code",
   "execution_count": null,
   "metadata": {
    "ExecuteTime": {
     "end_time": "2020-06-01T23:13:40.986753Z",
     "start_time": "2020-06-01T23:13:40.622726Z"
    }
   },
   "outputs": [],
   "source": []
  },
  {
   "cell_type": "code",
   "execution_count": null,
   "metadata": {
    "ExecuteTime": {
     "end_time": "2020-06-01T23:13:41.022656Z",
     "start_time": "2020-06-01T23:13:40.988747Z"
    }
   },
   "outputs": [],
   "source": [
    "start=len(train)\n",
    "end=len(train)+len(test)-1\n",
    "predictions = results.predict(start=start, end=end, dynamic=False, typ='levels').rename('SARIMA(1,1,0)(0,1,1,12) Predictions')"
   ]
  },
  {
   "cell_type": "code",
   "execution_count": null,
   "metadata": {
    "ExecuteTime": {
     "end_time": "2020-06-01T23:13:41.039611Z",
     "start_time": "2020-06-01T23:13:41.026646Z"
    }
   },
   "outputs": [],
   "source": [
    "# Compare predictions to expected values\n",
    "for i in range(len(predictions)):\n",
    "    print(f\"predicted={predictions[i]:<11.10}, expected={test['Production'][i]}\")"
   ]
  },
  {
   "cell_type": "code",
   "execution_count": null,
   "metadata": {
    "ExecuteTime": {
     "end_time": "2020-06-01T23:13:41.396657Z",
     "start_time": "2020-06-01T23:13:41.044598Z"
    }
   },
   "outputs": [],
   "source": [
    "# Plot predictions against known values\n",
    "title = 'Monthly Milk Production'\n",
    "ax = test['Production'].plot(legend=True,figsize=(12,6),title=title)\n",
    "predictions.plot(legend=True)\n",
    "ax.autoscale(axis='x',tight=True)\n",
    "#ax.set(xlabel=xlabel, ylabel=ylabel);"
   ]
  },
  {
   "cell_type": "code",
   "execution_count": null,
   "metadata": {
    "ExecuteTime": {
     "end_time": "2020-06-01T23:13:41.409622Z",
     "start_time": "2020-06-01T23:13:41.399651Z"
    }
   },
   "outputs": [],
   "source": [
    "r2_score(test['Production'], predictions)"
   ]
  },
  {
   "cell_type": "code",
   "execution_count": null,
   "metadata": {
    "ExecuteTime": {
     "end_time": "2020-06-01T23:13:41.450513Z",
     "start_time": "2020-06-01T23:13:41.415612Z"
    }
   },
   "outputs": [],
   "source": [
    "evaluation_results = pd.DataFrame({'r2_score': r2_score(test['Production'], predictions)}, index=[0])\n",
    "evaluation_results['mean_absolute_error'] = mean_absolute_error(test['Production'], predictions)\n",
    "evaluation_results['mean_squared_error'] = mean_squared_error(test['Production'], predictions)\n",
    "evaluation_results['mean_absolute_percentage_error'] = np.mean(np.abs(predictions - test['Production'])/np.abs(test['Production']))*100 \n",
    "\n",
    "evaluation_results"
   ]
  },
  {
   "cell_type": "markdown",
   "metadata": {},
   "source": [
    "# Future Forecasts"
   ]
  },
  {
   "cell_type": "code",
   "execution_count": null,
   "metadata": {
    "ExecuteTime": {
     "end_time": "2020-06-01T23:13:41.748715Z",
     "start_time": "2020-06-01T23:13:41.453504Z"
    }
   },
   "outputs": [],
   "source": [
    "pred_f = results.get_forecast(steps=60)\n",
    "pred_ci = pred_f.conf_int()\n",
    "ax = df.plot(label='Production', figsize=(14, 7))\n",
    "pred_f.predicted_mean.plot(ax=ax, label='Forecast')\n",
    "ax.fill_between(pred_ci.index,\n",
    "                pred_ci.iloc[:, 0],\n",
    "                pred_ci.iloc[:, 1], color='k', alpha=.25)\n",
    "ax.set_xlabel('Date')\n",
    "ax.set_ylabel('Monthly Milk Production')\n",
    "plt.legend()\n",
    "plt.show()"
   ]
  },
  {
   "cell_type": "code",
   "execution_count": null,
   "metadata": {},
   "outputs": [],
   "source": []
  }
 ],
 "metadata": {
  "kernelspec": {
   "display_name": "Python 3 (ipykernel)",
   "language": "python",
   "name": "python3"
  },
  "language_info": {
   "codemirror_mode": {
    "name": "ipython",
    "version": 3
   },
   "file_extension": ".py",
   "mimetype": "text/x-python",
   "name": "python",
   "nbconvert_exporter": "python",
   "pygments_lexer": "ipython3",
   "version": "3.9.10"
  },
  "toc": {
   "base_numbering": 1,
   "nav_menu": {},
   "number_sections": true,
   "sideBar": true,
   "skip_h1_title": false,
   "title_cell": "Table of Contents",
   "title_sidebar": "Contents",
   "toc_cell": false,
   "toc_position": {},
   "toc_section_display": true,
   "toc_window_display": false
  },
  "varInspector": {
   "cols": {
    "lenName": 16,
    "lenType": 16,
    "lenVar": 40
   },
   "kernels_config": {
    "python": {
     "delete_cmd_postfix": "",
     "delete_cmd_prefix": "del ",
     "library": "var_list.py",
     "varRefreshCmd": "print(var_dic_list())"
    },
    "r": {
     "delete_cmd_postfix": ") ",
     "delete_cmd_prefix": "rm(",
     "library": "var_list.r",
     "varRefreshCmd": "cat(var_dic_list()) "
    }
   },
   "types_to_exclude": [
    "module",
    "function",
    "builtin_function_or_method",
    "instance",
    "_Feature"
   ],
   "window_display": false
  }
 },
 "nbformat": 4,
 "nbformat_minor": 2
}
